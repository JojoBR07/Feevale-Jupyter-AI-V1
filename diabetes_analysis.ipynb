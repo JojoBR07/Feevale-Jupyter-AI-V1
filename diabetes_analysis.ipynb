{
 "cells": [
  {
   "cell_type": "markdown",
   "id": "54200459-cb8b-4b4b-a9d7-eaf617d98983",
   "metadata": {},
   "source": [
    "# Experimento: Classificador de Diabetes"
   ]
  },
  {
   "cell_type": "markdown",
   "id": "d7063842-ff38-49aa-a340-de0321cc21a6",
   "metadata": {},
   "source": [
    " "
   ]
  },
  {
   "cell_type": "markdown",
   "id": "6c2753f4-babc-4794-b3a0-1cb8f9118604",
   "metadata": {},
   "source": [
    "### Importação dos Conjuntos de Dados\n",
    "A função **read_csv()** permite que possa ser importado o arquivo de predição em CSV. Adicionalmente a função **joblib.load** será utilizada para importar o modelo gerado na fase de processamento."
   ]
  },
  {
   "cell_type": "code",
   "execution_count": 17,
   "id": "daf48e6c-0f2c-4a9d-82ce-df94e88a9be8",
   "metadata": {},
   "outputs": [],
   "source": [
    "import joblib\n",
    "import pandas as pd\n",
    "\n",
    "x_train = pd.read_csv('Files/X_train.csv')\n",
    "x_test = pd.read_csv('Files/X_test.csv')\n",
    "y_train = pd.read_csv('Files/y_train.csv')\n",
    "y_test = pd.read_csv('Files/y_test.csv')\n",
    "\n",
    "y_pred = pd.read_csv('Files/predicted_y.csv')\n",
    "clf = joblib.load('Model/modelo_arvore_decisao.pkl')"
   ]
  },
  {
   "cell_type": "code",
   "execution_count": null,
   "id": "c0e2db32-c81e-4539-9c0b-20a78950c757",
   "metadata": {},
   "outputs": [],
   "source": []
  },
  {
   "cell_type": "markdown",
   "id": "9e43951b-a3e4-486f-bbe2-b1c8ad123422",
   "metadata": {},
   "source": [
    "## Avaliação\n",
    "*** \n",
    "\n",
    "**tp** (verdadeiros positivos): casos cassificados parar uma classe corretamente<br>\n",
    "**fp** (falsos positivos): casos classificados para uma classe incorretamente<br>\n",
    "**tn** (verdadeiros negativos): casos classificados corretamente como falsos<br>\n",
    "**fn** (falsos negativos): casos considerados de outra classe mas deveriam ser da classe em questão<br>\n",
    "<br>\n",
    "**Suporte**: tp + fp, ou seja, o total de casos</br>\n",
    "**Precisão**: tp / (tp + fp), ou seja, proporção dos acertos em classificar exemplos positivos <br>\n",
    "**Recall**: tp / (tp + fn), ou seja, proporção de acertos entre todas as classes<br>\n",
    "**f1-score**: média harmônica entre a Precisão e o Recall<br>\n",
    "**Acurácia**: soma do tp de todas as classes dividido pelo número de instâncias do dataset de teste (resulta em uma percentagem).<br>\n",
    "\n",
    "Uma ótima imagem ilustrativa sobre estas métricas pode ser encontrada na __[Wikipédia](https://pt.wikipedia.org/wiki/Precis%C3%A3o_e_revoca%C3%A7%C3%A3o#/media/Ficheiro:Precis%C3%A3o_e_revoca%C3%A7%C3%A3o.png)__\n"
   ]
  },
  {
   "cell_type": "code",
   "execution_count": 18,
   "id": "129b2548-141e-401e-9fb4-373f7314bc30",
   "metadata": {},
   "outputs": [
    {
     "name": "stdout",
     "output_type": "stream",
     "text": [
      "Acurácia: 0.9743589743589743\n"
     ]
    }
   ],
   "source": [
    "from sklearn import metrics #Importando módulo de métricas para avaliação\n",
    "# Acurácia do modelo, o quanto o classificador está correto?\n",
    "print(\"Acurácia:\",metrics.accuracy_score(y_test, y_pred))"
   ]
  },
  {
   "cell_type": "code",
   "execution_count": 19,
   "id": "2854fe65-ba31-4914-ae26-6067707995b3",
   "metadata": {},
   "outputs": [
    {
     "name": "stdout",
     "output_type": "stream",
     "text": [
      "              precision    recall  f1-score   support\n",
      "\n",
      "    Positive       0.95      0.98      0.96        54\n",
      "    Negative       0.99      0.97      0.98       102\n",
      "\n",
      "    accuracy                           0.97       156\n",
      "   macro avg       0.97      0.98      0.97       156\n",
      "weighted avg       0.97      0.97      0.97       156\n",
      "\n"
     ]
    }
   ],
   "source": [
    "from sklearn.metrics import ConfusionMatrixDisplay, classification_report\n",
    "\n",
    "print(classification_report(y_test, y_pred, target_names=['Positive','Negative']))                                                                              "
   ]
  },
  {
   "cell_type": "code",
   "execution_count": 20,
   "id": "8e41e601-1836-46a4-9a8b-29d9008375e2",
   "metadata": {},
   "outputs": [
    {
     "data": {
      "image/png": "[encoded data removed]",
      "text/plain": [
       "<Figure size 640x480 with 2 Axes>"
      ]
     },
     "metadata": {},
     "output_type": "display_data"
    }
   ],
   "source": [
    "import matplotlib.pyplot as plt\n",
    "ConfusionMatrixDisplay.from_estimator(\n",
    "    clf, x_test, y_test, display_labels=['Positive','Negative'], xticks_rotation=\"vertical\"\n",
    ")\n",
    "plt.tight_layout()\n",
    "plt.show()"
   ]
  }
 ],
 "metadata": {
  "kernelspec": {
   "display_name": "Python 3 (ipykernel)",
   "language": "python",
   "name": "python3"
  },
  "language_info": {
   "codemirror_mode": {
    "name": "ipython",
    "version": 3
   },
   "file_extension": ".py",
   "mimetype": "text/x-python",
   "name": "python",
   "nbconvert_exporter": "python",
   "pygments_lexer": "ipython3",
   "version": "3.12.10"
  }
 },
 "nbformat": 4,
 "nbformat_minor": 5
}
